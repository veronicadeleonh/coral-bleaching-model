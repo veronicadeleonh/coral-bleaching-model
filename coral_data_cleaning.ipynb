{
 "cells": [
  {
   "cell_type": "code",
   "execution_count": 227,
   "metadata": {},
   "outputs": [],
   "source": [
    "import os\n",
    "import pandas as pd\n",
    "import numpy as np\n",
    "\n",
    "import kagglehub\n",
    "\n",
    "import seaborn as sns\n",
    "import matplotlib.pyplot as plt\n",
    "\n",
    "from sklearn.experimental import enable_iterative_imputer\n",
    "from sklearn.impute import IterativeImputer"
   ]
  },
  {
   "cell_type": "code",
   "execution_count": 228,
   "metadata": {},
   "outputs": [
    {
     "name": "stdout",
     "output_type": "stream",
     "text": [
      "Path to dataset files: /Users/veronica/.cache/kagglehub/datasets/mehrdat/coral-reef-global-bleaching/versions/2\n"
     ]
    }
   ],
   "source": [
    "# Download latest version\n",
    "path = kagglehub.dataset_download(\"mehrdat/coral-reef-global-bleaching\")\n",
    "\n",
    "print(\"Path to dataset files:\", path)"
   ]
  },
  {
   "cell_type": "code",
   "execution_count": 229,
   "metadata": {},
   "outputs": [
    {
     "name": "stdout",
     "output_type": "stream",
     "text": [
      "['coral.csv', 'coral_whole.csv']\n"
     ]
    },
    {
     "name": "stderr",
     "output_type": "stream",
     "text": [
      "/var/folders/yz/shh48k7s5kg3qtp0x9hzjb6c0000gn/T/ipykernel_22336/3084295181.py:5: DtypeWarning: Columns (13,15,24) have mixed types. Specify dtype option on import or set low_memory=False.\n",
      "  coral = pd.read_csv(coral)\n"
     ]
    },
    {
     "data": {
      "text/html": [
       "<div>\n",
       "<style scoped>\n",
       "    .dataframe tbody tr th:only-of-type {\n",
       "        vertical-align: middle;\n",
       "    }\n",
       "\n",
       "    .dataframe tbody tr th {\n",
       "        vertical-align: top;\n",
       "    }\n",
       "\n",
       "    .dataframe thead th {\n",
       "        text-align: right;\n",
       "    }\n",
       "</style>\n",
       "<table border=\"1\" class=\"dataframe\">\n",
       "  <thead>\n",
       "    <tr style=\"text-align: right;\">\n",
       "      <th></th>\n",
       "      <th>Site_ID</th>\n",
       "      <th>Sample_ID</th>\n",
       "      <th>Data_Source</th>\n",
       "      <th>Latitude_Degrees</th>\n",
       "      <th>Longitude_Degrees</th>\n",
       "      <th>Ocean_Name</th>\n",
       "      <th>Reef_ID</th>\n",
       "      <th>Realm_Name</th>\n",
       "      <th>Ecoregion_Name</th>\n",
       "      <th>Country_Name</th>\n",
       "      <th>...</th>\n",
       "      <th>TSA_FrequencyMax</th>\n",
       "      <th>TSA_FrequencyMean</th>\n",
       "      <th>TSA_DHW</th>\n",
       "      <th>TSA_DHW_Standard_Deviation</th>\n",
       "      <th>TSA_DHWMax</th>\n",
       "      <th>TSA_DHWMean</th>\n",
       "      <th>Date</th>\n",
       "      <th>Site_Comments</th>\n",
       "      <th>Sample_Comments</th>\n",
       "      <th>Bleaching_Comments</th>\n",
       "    </tr>\n",
       "  </thead>\n",
       "  <tbody>\n",
       "    <tr>\n",
       "      <th>0</th>\n",
       "      <td>2501</td>\n",
       "      <td>10324336</td>\n",
       "      <td>Donner</td>\n",
       "      <td>23.1630</td>\n",
       "      <td>-82.5260</td>\n",
       "      <td>Atlantic</td>\n",
       "      <td>nd</td>\n",
       "      <td>Tropical Atlantic</td>\n",
       "      <td>Cuba and Cayman Islands</td>\n",
       "      <td>Cuba</td>\n",
       "      <td>...</td>\n",
       "      <td>5</td>\n",
       "      <td>0</td>\n",
       "      <td>0</td>\n",
       "      <td>0.74</td>\n",
       "      <td>7.25</td>\n",
       "      <td>0.18</td>\n",
       "      <td>2005-09-15</td>\n",
       "      <td>nd</td>\n",
       "      <td>nd</td>\n",
       "      <td>nd</td>\n",
       "    </tr>\n",
       "    <tr>\n",
       "      <th>1</th>\n",
       "      <td>3467</td>\n",
       "      <td>10324754</td>\n",
       "      <td>Donner</td>\n",
       "      <td>-17.5750</td>\n",
       "      <td>-149.7833</td>\n",
       "      <td>Pacific</td>\n",
       "      <td>nd</td>\n",
       "      <td>Eastern Indo-Pacific</td>\n",
       "      <td>Society Islands French Polynesia</td>\n",
       "      <td>French Polynesia</td>\n",
       "      <td>...</td>\n",
       "      <td>4</td>\n",
       "      <td>0</td>\n",
       "      <td>0.26</td>\n",
       "      <td>0.67</td>\n",
       "      <td>4.65</td>\n",
       "      <td>0.19</td>\n",
       "      <td>1991-03-15</td>\n",
       "      <td>The bleaching does not  appear to have gained ...</td>\n",
       "      <td>The bleaching does not  appear to have gained ...</td>\n",
       "      <td>nd</td>\n",
       "    </tr>\n",
       "    <tr>\n",
       "      <th>2</th>\n",
       "      <td>1794</td>\n",
       "      <td>10323866</td>\n",
       "      <td>Donner</td>\n",
       "      <td>18.3690</td>\n",
       "      <td>-64.5640</td>\n",
       "      <td>Atlantic</td>\n",
       "      <td>nd</td>\n",
       "      <td>Tropical Atlantic</td>\n",
       "      <td>Hispaniola Puerto Rico and Lesser Antilles</td>\n",
       "      <td>United Kingdom</td>\n",
       "      <td>...</td>\n",
       "      <td>7</td>\n",
       "      <td>0</td>\n",
       "      <td>0</td>\n",
       "      <td>1.04</td>\n",
       "      <td>11.66</td>\n",
       "      <td>0.26</td>\n",
       "      <td>2006-01-15</td>\n",
       "      <td>nd</td>\n",
       "      <td>nd</td>\n",
       "      <td>nd</td>\n",
       "    </tr>\n",
       "    <tr>\n",
       "      <th>3</th>\n",
       "      <td>8647</td>\n",
       "      <td>10328028</td>\n",
       "      <td>Donner</td>\n",
       "      <td>17.7600</td>\n",
       "      <td>-64.5680</td>\n",
       "      <td>Atlantic</td>\n",
       "      <td>nd</td>\n",
       "      <td>Tropical Atlantic</td>\n",
       "      <td>Hispaniola Puerto Rico and Lesser Antilles</td>\n",
       "      <td>United States</td>\n",
       "      <td>...</td>\n",
       "      <td>4</td>\n",
       "      <td>0</td>\n",
       "      <td>0</td>\n",
       "      <td>0.75</td>\n",
       "      <td>5.64</td>\n",
       "      <td>0.2</td>\n",
       "      <td>2006-04-15</td>\n",
       "      <td>nd</td>\n",
       "      <td>nd</td>\n",
       "      <td>nd</td>\n",
       "    </tr>\n",
       "    <tr>\n",
       "      <th>4</th>\n",
       "      <td>8648</td>\n",
       "      <td>10328029</td>\n",
       "      <td>Donner</td>\n",
       "      <td>17.7690</td>\n",
       "      <td>-64.5830</td>\n",
       "      <td>Atlantic</td>\n",
       "      <td>nd</td>\n",
       "      <td>Tropical Atlantic</td>\n",
       "      <td>Hispaniola Puerto Rico and Lesser Antilles</td>\n",
       "      <td>United States</td>\n",
       "      <td>...</td>\n",
       "      <td>5</td>\n",
       "      <td>0</td>\n",
       "      <td>0</td>\n",
       "      <td>0.92</td>\n",
       "      <td>6.89</td>\n",
       "      <td>0.25</td>\n",
       "      <td>2006-04-15</td>\n",
       "      <td>nd</td>\n",
       "      <td>nd</td>\n",
       "      <td>nd</td>\n",
       "    </tr>\n",
       "    <tr>\n",
       "      <th>...</th>\n",
       "      <td>...</td>\n",
       "      <td>...</td>\n",
       "      <td>...</td>\n",
       "      <td>...</td>\n",
       "      <td>...</td>\n",
       "      <td>...</td>\n",
       "      <td>...</td>\n",
       "      <td>...</td>\n",
       "      <td>...</td>\n",
       "      <td>...</td>\n",
       "      <td>...</td>\n",
       "      <td>...</td>\n",
       "      <td>...</td>\n",
       "      <td>...</td>\n",
       "      <td>...</td>\n",
       "      <td>...</td>\n",
       "      <td>...</td>\n",
       "      <td>...</td>\n",
       "      <td>...</td>\n",
       "      <td>...</td>\n",
       "      <td>...</td>\n",
       "    </tr>\n",
       "    <tr>\n",
       "      <th>41356</th>\n",
       "      <td>15446</td>\n",
       "      <td>10310562</td>\n",
       "      <td>Reef_Check</td>\n",
       "      <td>-8.3651</td>\n",
       "      <td>116.0844</td>\n",
       "      <td>Pacific</td>\n",
       "      <td>116.5.3.9E.8.21.54.4S</td>\n",
       "      <td>Central Indo-Pacific</td>\n",
       "      <td>Lesser Sunda Islands and Savu Sea</td>\n",
       "      <td>Indonesia</td>\n",
       "      <td>...</td>\n",
       "      <td>8</td>\n",
       "      <td>1</td>\n",
       "      <td>2.09</td>\n",
       "      <td>1.49</td>\n",
       "      <td>9</td>\n",
       "      <td>0.63</td>\n",
       "      <td>2019-05-28</td>\n",
       "      <td>nd</td>\n",
       "      <td>nd</td>\n",
       "      <td>nd</td>\n",
       "    </tr>\n",
       "    <tr>\n",
       "      <th>41357</th>\n",
       "      <td>15456</td>\n",
       "      <td>10310527</td>\n",
       "      <td>Reef_Check</td>\n",
       "      <td>-8.3473</td>\n",
       "      <td>116.0503</td>\n",
       "      <td>Pacific</td>\n",
       "      <td>116.3.1.1E.8.20.50.2S</td>\n",
       "      <td>Central Indo-Pacific</td>\n",
       "      <td>Lesser Sunda Islands and Savu Sea</td>\n",
       "      <td>Indonesia</td>\n",
       "      <td>...</td>\n",
       "      <td>8</td>\n",
       "      <td>1</td>\n",
       "      <td>2</td>\n",
       "      <td>1.29</td>\n",
       "      <td>8.01</td>\n",
       "      <td>0.65</td>\n",
       "      <td>2019-05-16</td>\n",
       "      <td>nd</td>\n",
       "      <td>nd</td>\n",
       "      <td>nd</td>\n",
       "    </tr>\n",
       "    <tr>\n",
       "      <th>41358</th>\n",
       "      <td>15456</td>\n",
       "      <td>10310527</td>\n",
       "      <td>Reef_Check</td>\n",
       "      <td>-8.3473</td>\n",
       "      <td>116.0503</td>\n",
       "      <td>Pacific</td>\n",
       "      <td>116.3.1.1E.8.20.50.2S</td>\n",
       "      <td>Central Indo-Pacific</td>\n",
       "      <td>Lesser Sunda Islands and Savu Sea</td>\n",
       "      <td>Indonesia</td>\n",
       "      <td>...</td>\n",
       "      <td>8</td>\n",
       "      <td>1</td>\n",
       "      <td>2</td>\n",
       "      <td>1.29</td>\n",
       "      <td>8.01</td>\n",
       "      <td>0.65</td>\n",
       "      <td>2019-05-16</td>\n",
       "      <td>nd</td>\n",
       "      <td>nd</td>\n",
       "      <td>nd</td>\n",
       "    </tr>\n",
       "    <tr>\n",
       "      <th>41359</th>\n",
       "      <td>15457</td>\n",
       "      <td>10310536</td>\n",
       "      <td>Reef_Check</td>\n",
       "      <td>-8.3445</td>\n",
       "      <td>116.0629</td>\n",
       "      <td>Pacific</td>\n",
       "      <td>116.3.46.548E.8.20.40.236S</td>\n",
       "      <td>Central Indo-Pacific</td>\n",
       "      <td>Lesser Sunda Islands and Savu Sea</td>\n",
       "      <td>Indonesia</td>\n",
       "      <td>...</td>\n",
       "      <td>8</td>\n",
       "      <td>1</td>\n",
       "      <td>2</td>\n",
       "      <td>1.29</td>\n",
       "      <td>8.01</td>\n",
       "      <td>0.65</td>\n",
       "      <td>2019-05-29</td>\n",
       "      <td>nd</td>\n",
       "      <td>nd</td>\n",
       "      <td>nd</td>\n",
       "    </tr>\n",
       "    <tr>\n",
       "      <th>41360</th>\n",
       "      <td>15457</td>\n",
       "      <td>10310536</td>\n",
       "      <td>Reef_Check</td>\n",
       "      <td>-8.3445</td>\n",
       "      <td>116.0629</td>\n",
       "      <td>Pacific</td>\n",
       "      <td>116.3.46.548E.8.20.40.236S</td>\n",
       "      <td>Central Indo-Pacific</td>\n",
       "      <td>Lesser Sunda Islands and Savu Sea</td>\n",
       "      <td>Indonesia</td>\n",
       "      <td>...</td>\n",
       "      <td>8</td>\n",
       "      <td>1</td>\n",
       "      <td>2</td>\n",
       "      <td>1.29</td>\n",
       "      <td>8.01</td>\n",
       "      <td>0.65</td>\n",
       "      <td>2019-05-29</td>\n",
       "      <td>nd</td>\n",
       "      <td>nd</td>\n",
       "      <td>nd</td>\n",
       "    </tr>\n",
       "  </tbody>\n",
       "</table>\n",
       "<p>41361 rows × 62 columns</p>\n",
       "</div>"
      ],
      "text/plain": [
       "       Site_ID  Sample_ID Data_Source  Latitude_Degrees  Longitude_Degrees  \\\n",
       "0         2501   10324336      Donner           23.1630           -82.5260   \n",
       "1         3467   10324754      Donner          -17.5750          -149.7833   \n",
       "2         1794   10323866      Donner           18.3690           -64.5640   \n",
       "3         8647   10328028      Donner           17.7600           -64.5680   \n",
       "4         8648   10328029      Donner           17.7690           -64.5830   \n",
       "...        ...        ...         ...               ...                ...   \n",
       "41356    15446   10310562  Reef_Check           -8.3651           116.0844   \n",
       "41357    15456   10310527  Reef_Check           -8.3473           116.0503   \n",
       "41358    15456   10310527  Reef_Check           -8.3473           116.0503   \n",
       "41359    15457   10310536  Reef_Check           -8.3445           116.0629   \n",
       "41360    15457   10310536  Reef_Check           -8.3445           116.0629   \n",
       "\n",
       "      Ocean_Name                     Reef_ID            Realm_Name  \\\n",
       "0       Atlantic                          nd     Tropical Atlantic   \n",
       "1        Pacific                          nd  Eastern Indo-Pacific   \n",
       "2       Atlantic                          nd     Tropical Atlantic   \n",
       "3       Atlantic                          nd     Tropical Atlantic   \n",
       "4       Atlantic                          nd     Tropical Atlantic   \n",
       "...          ...                         ...                   ...   \n",
       "41356    Pacific       116.5.3.9E.8.21.54.4S  Central Indo-Pacific   \n",
       "41357    Pacific       116.3.1.1E.8.20.50.2S  Central Indo-Pacific   \n",
       "41358    Pacific       116.3.1.1E.8.20.50.2S  Central Indo-Pacific   \n",
       "41359    Pacific  116.3.46.548E.8.20.40.236S  Central Indo-Pacific   \n",
       "41360    Pacific  116.3.46.548E.8.20.40.236S  Central Indo-Pacific   \n",
       "\n",
       "                                   Ecoregion_Name      Country_Name  ...  \\\n",
       "0                         Cuba and Cayman Islands              Cuba  ...   \n",
       "1                Society Islands French Polynesia  French Polynesia  ...   \n",
       "2      Hispaniola Puerto Rico and Lesser Antilles    United Kingdom  ...   \n",
       "3      Hispaniola Puerto Rico and Lesser Antilles     United States  ...   \n",
       "4      Hispaniola Puerto Rico and Lesser Antilles     United States  ...   \n",
       "...                                           ...               ...  ...   \n",
       "41356           Lesser Sunda Islands and Savu Sea         Indonesia  ...   \n",
       "41357           Lesser Sunda Islands and Savu Sea         Indonesia  ...   \n",
       "41358           Lesser Sunda Islands and Savu Sea         Indonesia  ...   \n",
       "41359           Lesser Sunda Islands and Savu Sea         Indonesia  ...   \n",
       "41360           Lesser Sunda Islands and Savu Sea         Indonesia  ...   \n",
       "\n",
       "      TSA_FrequencyMax TSA_FrequencyMean TSA_DHW TSA_DHW_Standard_Deviation  \\\n",
       "0                    5                 0       0                       0.74   \n",
       "1                    4                 0    0.26                       0.67   \n",
       "2                    7                 0       0                       1.04   \n",
       "3                    4                 0       0                       0.75   \n",
       "4                    5                 0       0                       0.92   \n",
       "...                ...               ...     ...                        ...   \n",
       "41356                8                 1    2.09                       1.49   \n",
       "41357                8                 1       2                       1.29   \n",
       "41358                8                 1       2                       1.29   \n",
       "41359                8                 1       2                       1.29   \n",
       "41360                8                 1       2                       1.29   \n",
       "\n",
       "      TSA_DHWMax TSA_DHWMean        Date  \\\n",
       "0           7.25        0.18  2005-09-15   \n",
       "1           4.65        0.19  1991-03-15   \n",
       "2          11.66        0.26  2006-01-15   \n",
       "3           5.64         0.2  2006-04-15   \n",
       "4           6.89        0.25  2006-04-15   \n",
       "...          ...         ...         ...   \n",
       "41356          9        0.63  2019-05-28   \n",
       "41357       8.01        0.65  2019-05-16   \n",
       "41358       8.01        0.65  2019-05-16   \n",
       "41359       8.01        0.65  2019-05-29   \n",
       "41360       8.01        0.65  2019-05-29   \n",
       "\n",
       "                                           Site_Comments  \\\n",
       "0                                                     nd   \n",
       "1      The bleaching does not  appear to have gained ...   \n",
       "2                                                     nd   \n",
       "3                                                     nd   \n",
       "4                                                     nd   \n",
       "...                                                  ...   \n",
       "41356                                                 nd   \n",
       "41357                                                 nd   \n",
       "41358                                                 nd   \n",
       "41359                                                 nd   \n",
       "41360                                                 nd   \n",
       "\n",
       "                                         Sample_Comments  Bleaching_Comments  \n",
       "0                                                     nd                  nd  \n",
       "1      The bleaching does not  appear to have gained ...                  nd  \n",
       "2                                                     nd                  nd  \n",
       "3                                                     nd                  nd  \n",
       "4                                                     nd                  nd  \n",
       "...                                                  ...                 ...  \n",
       "41356                                                 nd                  nd  \n",
       "41357                                                 nd                  nd  \n",
       "41358                                                 nd                  nd  \n",
       "41359                                                 nd                  nd  \n",
       "41360                                                 nd                  nd  \n",
       "\n",
       "[41361 rows x 62 columns]"
      ]
     },
     "metadata": {},
     "output_type": "display_data"
    }
   ],
   "source": [
    "print(os.listdir(path))\n",
    "\n",
    "coral = os.path.join(path, \"coral.csv\")\n",
    "\n",
    "coral = pd.read_csv(coral)\n",
    "\n",
    "display(coral)\n",
    "\n",
    "# coral = pd.read_csv(\"data/global_bleaching_environmental.csv\")"
   ]
  },
  {
   "cell_type": "code",
   "execution_count": 230,
   "metadata": {},
   "outputs": [
    {
     "data": {
      "text/plain": [
       "Bleaching_Level\n",
       "Population    22531\n",
       "nd            18830\n",
       "Name: count, dtype: int64"
      ]
     },
     "execution_count": 230,
     "metadata": {},
     "output_type": "execute_result"
    }
   ],
   "source": [
    "coral[\"Bleaching_Level\"].value_counts()"
   ]
  },
  {
   "cell_type": "code",
   "execution_count": 231,
   "metadata": {},
   "outputs": [
    {
     "data": {
      "text/plain": [
       "Index(['Site_ID', 'Sample_ID', 'Data_Source', 'Latitude_Degrees',\n",
       "       'Longitude_Degrees', 'Ocean_Name', 'Reef_ID', 'Realm_Name',\n",
       "       'Ecoregion_Name', 'Country_Name', 'State_Island_Province_Name',\n",
       "       'City_Town_Name', 'Site_Name', 'Distance_to_Shore', 'Exposure',\n",
       "       'Turbidity', 'Cyclone_Frequency', 'Date_Day', 'Date_Month', 'Date_Year',\n",
       "       'Depth_m', 'Substrate_Name', 'Percent_Cover', 'Bleaching_Level',\n",
       "       'Percent_Bleaching', 'ClimSST', 'Temperature_Kelvin',\n",
       "       'Temperature_Mean', 'Temperature_Minimum', 'Temperature_Maximum',\n",
       "       'Temperature_Kelvin_Standard_Deviation', 'Windspeed', 'SSTA',\n",
       "       'SSTA_Standard_Deviation', 'SSTA_Mean', 'SSTA_Minimum', 'SSTA_Maximum',\n",
       "       'SSTA_Frequency', 'SSTA_Frequency_Standard_Deviation',\n",
       "       'SSTA_FrequencyMax', 'SSTA_FrequencyMean', 'SSTA_DHW',\n",
       "       'SSTA_DHW_Standard_Deviation', 'SSTA_DHWMax', 'SSTA_DHWMean', 'TSA',\n",
       "       'TSA_Standard_Deviation', 'TSA_Minimum', 'TSA_Maximum', 'TSA_Mean',\n",
       "       'TSA_Frequency', 'TSA_Frequency_Standard_Deviation', 'TSA_FrequencyMax',\n",
       "       'TSA_FrequencyMean', 'TSA_DHW', 'TSA_DHW_Standard_Deviation',\n",
       "       'TSA_DHWMax', 'TSA_DHWMean', 'Date', 'Site_Comments', 'Sample_Comments',\n",
       "       'Bleaching_Comments'],\n",
       "      dtype='object')"
      ]
     },
     "execution_count": 231,
     "metadata": {},
     "output_type": "execute_result"
    }
   ],
   "source": [
    "coral.columns"
   ]
  },
  {
   "cell_type": "code",
   "execution_count": 232,
   "metadata": {},
   "outputs": [],
   "source": [
    "columns_to_drop = [\n",
    "    'Site_ID', 'Sample_ID', 'Data_Source', 'Reef_ID', 'Country_Name', 'State_Island_Province_Name', \n",
    "    'City_Town_Name', 'Site_Name', 'Date_Day', 'Date_Month', 'Date_Year', 'Substrate_Name', \n",
    "    'Temperature_Minimum', 'Temperature_Kelvin_Standard_Deviation', 'SSTA_Standard_Deviation', \n",
    "    'SSTA_Minimum', 'SSTA_FrequencyMax', 'SSTA_DHW_Standard_Deviation', 'SSTA_DHWMax', 'SSTA_DHWMean', \n",
    "    'SSTA_Frequency_Standard_Deviation', 'SSTA_FrequencyMean', 'TSA_Standard_Deviation', 'TSA_Minimum', \n",
    "    'TSA_Frequency_Standard_Deviation', 'TSA_FrequencyMean', 'TSA_FrequencyMax', 'TSA_DHW_Standard_Deviation', \n",
    "    'TSA_DHWMax', 'TSA_DHWMean', 'Site_Comments', 'Bleaching_Comments', 'Sample_Comments', 'ClimSST', \n",
    "    'SSTA_Mean', 'TSA_Mean', 'Percent_Cover', 'Temperature_Mean'\n",
    "]\n",
    "\n",
    "coral = coral.drop(columns=columns_to_drop)"
   ]
  },
  {
   "cell_type": "code",
   "execution_count": 233,
   "metadata": {},
   "outputs": [
    {
     "name": "stdout",
     "output_type": "stream",
     "text": [
      "<class 'pandas.core.frame.DataFrame'>\n",
      "RangeIndex: 41361 entries, 0 to 41360\n",
      "Data columns (total 24 columns):\n",
      " #   Column               Non-Null Count  Dtype  \n",
      "---  ------               --------------  -----  \n",
      " 0   Latitude_Degrees     41361 non-null  float64\n",
      " 1   Longitude_Degrees    41361 non-null  float64\n",
      " 2   Ocean_Name           41361 non-null  object \n",
      " 3   Realm_Name           41361 non-null  object \n",
      " 4   Ecoregion_Name       41361 non-null  object \n",
      " 5   Distance_to_Shore    41361 non-null  object \n",
      " 6   Exposure             41361 non-null  object \n",
      " 7   Turbidity            41361 non-null  object \n",
      " 8   Cyclone_Frequency    41361 non-null  float64\n",
      " 9   Depth_m              41361 non-null  object \n",
      " 10  Bleaching_Level      41361 non-null  object \n",
      " 11  Percent_Bleaching    41361 non-null  object \n",
      " 12  Temperature_Kelvin   41361 non-null  object \n",
      " 13  Temperature_Maximum  41361 non-null  object \n",
      " 14  Windspeed            41361 non-null  object \n",
      " 15  SSTA                 41361 non-null  object \n",
      " 16  SSTA_Maximum         41361 non-null  object \n",
      " 17  SSTA_Frequency       41361 non-null  object \n",
      " 18  SSTA_DHW             41361 non-null  object \n",
      " 19  TSA                  41361 non-null  object \n",
      " 20  TSA_Maximum          41361 non-null  object \n",
      " 21  TSA_Frequency        41361 non-null  object \n",
      " 22  TSA_DHW              41361 non-null  object \n",
      " 23  Date                 41361 non-null  object \n",
      "dtypes: float64(3), object(21)\n",
      "memory usage: 7.6+ MB\n"
     ]
    }
   ],
   "source": [
    "coral.info()"
   ]
  },
  {
   "cell_type": "markdown",
   "metadata": {},
   "source": [
    "### DATA CLEANING"
   ]
  },
  {
   "cell_type": "code",
   "execution_count": 234,
   "metadata": {},
   "outputs": [
    {
     "data": {
      "text/plain": [
       "Latitude_Degrees       0\n",
       "Longitude_Degrees      0\n",
       "Ocean_Name             0\n",
       "Realm_Name             0\n",
       "Ecoregion_Name         0\n",
       "Distance_to_Shore      0\n",
       "Exposure               0\n",
       "Turbidity              0\n",
       "Cyclone_Frequency      0\n",
       "Depth_m                0\n",
       "Bleaching_Level        0\n",
       "Percent_Bleaching      0\n",
       "Temperature_Kelvin     0\n",
       "Temperature_Maximum    0\n",
       "Windspeed              0\n",
       "SSTA                   0\n",
       "SSTA_Maximum           0\n",
       "SSTA_Frequency         0\n",
       "SSTA_DHW               0\n",
       "TSA                    0\n",
       "TSA_Maximum            0\n",
       "TSA_Frequency          0\n",
       "TSA_DHW                0\n",
       "Date                   0\n",
       "dtype: int64"
      ]
     },
     "execution_count": 234,
     "metadata": {},
     "output_type": "execute_result"
    }
   ],
   "source": [
    "## CORAL\n",
    "\n",
    "coral.isnull().sum()"
   ]
  },
  {
   "cell_type": "code",
   "execution_count": 235,
   "metadata": {},
   "outputs": [
    {
     "data": {
      "text/plain": [
       "14438"
      ]
     },
     "execution_count": 235,
     "metadata": {},
     "output_type": "execute_result"
    }
   ],
   "source": [
    "coral.duplicated().sum()"
   ]
  },
  {
   "cell_type": "code",
   "execution_count": 236,
   "metadata": {},
   "outputs": [],
   "source": [
    "# TREATING 'nd' ACCORDING TO DOCUMENTATION\n",
    "\n",
    "coral[\"Bleaching_Level\"] = coral[\"Bleaching_Level\"].replace(\"nd\", \"Colony\")\n",
    "coral.replace('nd', np.nan, inplace=True)"
   ]
  },
  {
   "cell_type": "code",
   "execution_count": 237,
   "metadata": {},
   "outputs": [
    {
     "data": {
      "text/plain": [
       "Bleaching_Level\n",
       "Population    22531\n",
       "Colony        18830\n",
       "Name: count, dtype: int64"
      ]
     },
     "execution_count": 237,
     "metadata": {},
     "output_type": "execute_result"
    }
   ],
   "source": [
    "coral[\"Bleaching_Level\"].value_counts()"
   ]
  },
  {
   "cell_type": "code",
   "execution_count": 238,
   "metadata": {},
   "outputs": [],
   "source": [
    "# DATE\n",
    "\n",
    "coral['Date'] = pd.to_datetime(coral['Date'], format='%Y-%m-%d')"
   ]
  },
  {
   "cell_type": "code",
   "execution_count": 239,
   "metadata": {},
   "outputs": [],
   "source": [
    "coral.columns = coral.columns.str.lower()"
   ]
  },
  {
   "cell_type": "code",
   "execution_count": 240,
   "metadata": {},
   "outputs": [
    {
     "data": {
      "text/plain": [
       "0        10\n",
       "1        14\n",
       "2         7\n",
       "3      9.02\n",
       "4     12.50\n",
       "5      11.5\n",
       "6      27.7\n",
       "7       NaN\n",
       "8      4.05\n",
       "9       NaN\n",
       "10     4.82\n",
       "11      9.8\n",
       "12        9\n",
       "13    14.51\n",
       "14        3\n",
       "15       15\n",
       "16       12\n",
       "17      NaN\n",
       "18     3.75\n",
       "19     16.5\n",
       "20      8.8\n",
       "21     14.9\n",
       "22      8.3\n",
       "23    11.45\n",
       "24      3.4\n",
       "25      9.8\n",
       "26     11.3\n",
       "27    10.55\n",
       "28    16.05\n",
       "29    15.25\n",
       "30        7\n",
       "31       18\n",
       "32     5.35\n",
       "33    10.35\n",
       "34     10.4\n",
       "35     14.9\n",
       "36       10\n",
       "37      9.4\n",
       "38       10\n",
       "39      8.2\n",
       "40     20.9\n",
       "41      9.9\n",
       "42      NaN\n",
       "43       15\n",
       "44      7.6\n",
       "45     8.05\n",
       "46    14.15\n",
       "47     5.35\n",
       "48     17.7\n",
       "49     16.1\n",
       "Name: depth_m, dtype: object"
      ]
     },
     "execution_count": 240,
     "metadata": {},
     "output_type": "execute_result"
    }
   ],
   "source": [
    "coral[\"depth_m\"].head(50)"
   ]
  },
  {
   "cell_type": "code",
   "execution_count": 241,
   "metadata": {},
   "outputs": [
    {
     "name": "stdout",
     "output_type": "stream",
     "text": [
      "<class 'pandas.core.frame.DataFrame'>\n",
      "RangeIndex: 41361 entries, 0 to 41360\n",
      "Data columns (total 24 columns):\n",
      " #   Column               Non-Null Count  Dtype         \n",
      "---  ------               --------------  -----         \n",
      " 0   latitude_degrees     41361 non-null  float64       \n",
      " 1   longitude_degrees    41361 non-null  float64       \n",
      " 2   ocean_name           41361 non-null  object        \n",
      " 3   realm_name           41361 non-null  object        \n",
      " 4   ecoregion_name       41358 non-null  object        \n",
      " 5   distance_to_shore    41359 non-null  object        \n",
      " 6   exposure             41361 non-null  object        \n",
      " 7   turbidity            41355 non-null  object        \n",
      " 8   cyclone_frequency    41361 non-null  float64       \n",
      " 9   depth_m              39562 non-null  object        \n",
      " 10  bleaching_level      41361 non-null  object        \n",
      " 11  percent_bleaching    34515 non-null  object        \n",
      " 12  temperature_kelvin   41213 non-null  object        \n",
      " 13  temperature_maximum  41229 non-null  object        \n",
      " 14  windspeed            41232 non-null  object        \n",
      " 15  ssta                 41213 non-null  object        \n",
      " 16  ssta_maximum         41229 non-null  object        \n",
      " 17  ssta_frequency       41213 non-null  object        \n",
      " 18  ssta_dhw             41213 non-null  object        \n",
      " 19  tsa                  41213 non-null  object        \n",
      " 20  tsa_maximum          41229 non-null  object        \n",
      " 21  tsa_frequency        41213 non-null  object        \n",
      " 22  tsa_dhw              41213 non-null  object        \n",
      " 23  date                 41361 non-null  datetime64[ns]\n",
      "dtypes: datetime64[ns](1), float64(3), object(20)\n",
      "memory usage: 7.6+ MB\n"
     ]
    }
   ],
   "source": [
    "coral.info()"
   ]
  },
  {
   "cell_type": "code",
   "execution_count": 242,
   "metadata": {},
   "outputs": [],
   "source": [
    "columns_to_convert = [\n",
    "    'distance_to_shore', 'turbidity', 'depth_m', \n",
    "    'percent_bleaching', 'ssta', 'ssta_maximum', 'ssta_frequency', \n",
    "    'ssta_dhw', 'tsa', 'tsa_maximum', 'tsa_frequency', \n",
    "    'tsa_dhw', 'temperature_maximum', 'windspeed', 'temperature_kelvin'\n",
    "]\n",
    "\n",
    "coral[columns_to_convert] = coral[columns_to_convert].apply(pd.to_numeric, errors='coerce')"
   ]
  },
  {
   "cell_type": "code",
   "execution_count": 243,
   "metadata": {},
   "outputs": [],
   "source": [
    "coral = coral.rename(columns={'temperature_kelvin': 'sst', \n",
    "                              'temperature_maximum': 'sst_maximum',\n",
    "                              'latitude_degrees': 'latitude',\n",
    "                              'longitude_degrees': 'longitude',\n",
    "                              'ocean_name': 'ocean',\n",
    "                              'realm_name': 'realm',\n",
    "                              'ecoregion_name': 'ecoregion'})"
   ]
  },
  {
   "cell_type": "markdown",
   "metadata": {},
   "source": [
    "#### Null Values"
   ]
  },
  {
   "cell_type": "code",
   "execution_count": 244,
   "metadata": {},
   "outputs": [
    {
     "data": {
      "text/plain": [
       "latitude                0\n",
       "longitude               0\n",
       "ocean                   0\n",
       "realm                   0\n",
       "ecoregion               3\n",
       "distance_to_shore       2\n",
       "exposure                0\n",
       "turbidity               6\n",
       "cyclone_frequency       0\n",
       "depth_m              1799\n",
       "bleaching_level         0\n",
       "percent_bleaching    6846\n",
       "sst                   148\n",
       "sst_maximum           132\n",
       "windspeed             129\n",
       "ssta                  148\n",
       "ssta_maximum          132\n",
       "ssta_frequency        148\n",
       "ssta_dhw              148\n",
       "tsa                   148\n",
       "tsa_maximum           132\n",
       "tsa_frequency         148\n",
       "tsa_dhw               148\n",
       "date                    0\n",
       "dtype: int64"
      ]
     },
     "execution_count": 244,
     "metadata": {},
     "output_type": "execute_result"
    }
   ],
   "source": [
    "coral.isnull().sum()"
   ]
  },
  {
   "cell_type": "code",
   "execution_count": 245,
   "metadata": {},
   "outputs": [],
   "source": [
    "## ECOREGION\n",
    "\n",
    "coral = coral.dropna(subset=['ecoregion'])"
   ]
  },
  {
   "cell_type": "code",
   "execution_count": 246,
   "metadata": {},
   "outputs": [],
   "source": [
    "## PERCENT BLEACHING\n",
    "\n",
    "coral = coral.dropna(subset=['percent_bleaching'])"
   ]
  },
  {
   "cell_type": "code",
   "execution_count": 247,
   "metadata": {},
   "outputs": [
    {
     "data": {
      "text/plain": [
       "<Axes: >"
      ]
     },
     "execution_count": 247,
     "metadata": {},
     "output_type": "execute_result"
    },
    {
     "data": {
      "image/png": "[encoded data removed]",
      "text/plain": [
       "<Figure size 640x480 with 1 Axes>"
      ]
     },
     "metadata": {},
     "output_type": "display_data"
    }
   ],
   "source": [
    "## DEPTH M\n",
    "\n",
    "sns.boxplot(data=coral[['depth_m']])"
   ]
  },
  {
   "cell_type": "code",
   "execution_count": 248,
   "metadata": {},
   "outputs": [
    {
     "data": {
      "text/plain": [
       "<Axes: xlabel='depth_m', ylabel='Count'>"
      ]
     },
     "execution_count": 248,
     "metadata": {},
     "output_type": "execute_result"
    },
    {
     "data": {
      "image/png": "[encoded data removed]",
      "text/plain": [
       "<Figure size 640x480 with 1 Axes>"
      ]
     },
     "metadata": {},
     "output_type": "display_data"
    }
   ],
   "source": [
    "sns.histplot(coral[\"depth_m\"], bins=50, kde=True)"
   ]
  },
  {
   "cell_type": "code",
   "execution_count": 249,
   "metadata": {},
   "outputs": [],
   "source": [
    "coral[\"depth_m\"] = coral[\"depth_m\"].fillna(coral[\"depth_m\"].median())"
   ]
  },
  {
   "cell_type": "code",
   "execution_count": 250,
   "metadata": {},
   "outputs": [
    {
     "data": {
      "text/plain": [
       "count     34510.000000\n",
       "mean       3672.325921\n",
       "std       13385.037571\n",
       "min           3.200000\n",
       "25%         126.240000\n",
       "50%         476.030000\n",
       "75%        1837.212500\n",
       "max      299218.500000\n",
       "Name: distance_to_shore, dtype: float64"
      ]
     },
     "execution_count": 250,
     "metadata": {},
     "output_type": "execute_result"
    }
   ],
   "source": [
    "## DISTANCE TO SHORE\n",
    "\n",
    "coral[\"distance_to_shore\"].describe()"
   ]
  },
  {
   "cell_type": "code",
   "execution_count": 251,
   "metadata": {},
   "outputs": [],
   "source": [
    "coral[\"distance_to_shore\"] = coral[\"distance_to_shore\"].fillna(coral[\"distance_to_shore\"].mean())"
   ]
  },
  {
   "cell_type": "code",
   "execution_count": 252,
   "metadata": {},
   "outputs": [
    {
     "data": {
      "text/plain": [
       "count    34506.000000\n",
       "mean         0.075545\n",
       "std          0.061991\n",
       "min          0.000000\n",
       "25%          0.039600\n",
       "50%          0.057000\n",
       "75%          0.084200\n",
       "max          1.284500\n",
       "Name: turbidity, dtype: float64"
      ]
     },
     "execution_count": 252,
     "metadata": {},
     "output_type": "execute_result"
    }
   ],
   "source": [
    "# TURBIDITY\n",
    "\n",
    "coral[\"turbidity\"].describe()"
   ]
  },
  {
   "cell_type": "code",
   "execution_count": 253,
   "metadata": {},
   "outputs": [],
   "source": [
    "coral['turbidity'] = coral['turbidity'].fillna(coral[\"turbidity\"].mean())"
   ]
  },
  {
   "cell_type": "code",
   "execution_count": 254,
   "metadata": {},
   "outputs": [],
   "source": [
    "## REST OF NUMERICAL COLUMNS\n",
    "\n",
    "# Running an Iterative Imputer to help fillin the null values of the rest of the dataframe\n",
    "\n",
    "numerical_columns = coral.select_dtypes(include=['float64', 'int64']).columns\n",
    "coral_numerical = coral[numerical_columns]\n",
    "\n",
    "imputer = IterativeImputer(max_iter=10, random_state=42)\n",
    "\n",
    "coral.loc[:, numerical_columns] = imputer.fit_transform(coral_numerical)"
   ]
  },
  {
   "cell_type": "code",
   "execution_count": 255,
   "metadata": {},
   "outputs": [
    {
     "data": {
      "text/plain": [
       "latitude             0\n",
       "longitude            0\n",
       "ocean                0\n",
       "realm                0\n",
       "ecoregion            0\n",
       "distance_to_shore    0\n",
       "exposure             0\n",
       "turbidity            0\n",
       "cyclone_frequency    0\n",
       "depth_m              0\n",
       "bleaching_level      0\n",
       "percent_bleaching    0\n",
       "sst                  0\n",
       "sst_maximum          0\n",
       "windspeed            0\n",
       "ssta                 0\n",
       "ssta_maximum         0\n",
       "ssta_frequency       0\n",
       "ssta_dhw             0\n",
       "tsa                  0\n",
       "tsa_maximum          0\n",
       "tsa_frequency        0\n",
       "tsa_dhw              0\n",
       "date                 0\n",
       "dtype: int64"
      ]
     },
     "execution_count": 255,
     "metadata": {},
     "output_type": "execute_result"
    }
   ],
   "source": [
    "coral.isnull().sum()"
   ]
  },
  {
   "cell_type": "code",
   "execution_count": 256,
   "metadata": {},
   "outputs": [
    {
     "data": {
      "text/plain": [
       "11309"
      ]
     },
     "execution_count": 256,
     "metadata": {},
     "output_type": "execute_result"
    }
   ],
   "source": [
    "## CHECK FOR DUPLICATES\n",
    "\n",
    "coral.duplicated().sum()"
   ]
  },
  {
   "cell_type": "code",
   "execution_count": 257,
   "metadata": {},
   "outputs": [],
   "source": [
    "coral = coral.drop_duplicates()"
   ]
  },
  {
   "cell_type": "code",
   "execution_count": 258,
   "metadata": {},
   "outputs": [
    {
     "data": {
      "text/html": [
       "<div>\n",
       "<style scoped>\n",
       "    .dataframe tbody tr th:only-of-type {\n",
       "        vertical-align: middle;\n",
       "    }\n",
       "\n",
       "    .dataframe tbody tr th {\n",
       "        vertical-align: top;\n",
       "    }\n",
       "\n",
       "    .dataframe thead th {\n",
       "        text-align: right;\n",
       "    }\n",
       "</style>\n",
       "<table border=\"1\" class=\"dataframe\">\n",
       "  <thead>\n",
       "    <tr style=\"text-align: right;\">\n",
       "      <th></th>\n",
       "      <th>latitude</th>\n",
       "      <th>longitude</th>\n",
       "      <th>ocean</th>\n",
       "      <th>realm</th>\n",
       "      <th>ecoregion</th>\n",
       "      <th>distance_to_shore</th>\n",
       "      <th>exposure</th>\n",
       "      <th>turbidity</th>\n",
       "      <th>cyclone_frequency</th>\n",
       "      <th>depth_m</th>\n",
       "      <th>...</th>\n",
       "      <th>windspeed</th>\n",
       "      <th>ssta</th>\n",
       "      <th>ssta_maximum</th>\n",
       "      <th>ssta_frequency</th>\n",
       "      <th>ssta_dhw</th>\n",
       "      <th>tsa</th>\n",
       "      <th>tsa_maximum</th>\n",
       "      <th>tsa_frequency</th>\n",
       "      <th>tsa_dhw</th>\n",
       "      <th>date</th>\n",
       "    </tr>\n",
       "  </thead>\n",
       "  <tbody>\n",
       "    <tr>\n",
       "      <th>0</th>\n",
       "      <td>23.1630</td>\n",
       "      <td>-82.5260</td>\n",
       "      <td>Atlantic</td>\n",
       "      <td>Tropical Atlantic</td>\n",
       "      <td>Cuba and Cayman Islands</td>\n",
       "      <td>8519.23</td>\n",
       "      <td>Exposed</td>\n",
       "      <td>0.0287</td>\n",
       "      <td>49.90</td>\n",
       "      <td>10.00</td>\n",
       "      <td>...</td>\n",
       "      <td>8.0</td>\n",
       "      <td>-0.46</td>\n",
       "      <td>2.24</td>\n",
       "      <td>0.0</td>\n",
       "      <td>0.00</td>\n",
       "      <td>-0.80</td>\n",
       "      <td>1.83</td>\n",
       "      <td>0.00</td>\n",
       "      <td>0.00</td>\n",
       "      <td>2005-09-15</td>\n",
       "    </tr>\n",
       "    <tr>\n",
       "      <th>1</th>\n",
       "      <td>-17.5750</td>\n",
       "      <td>-149.7833</td>\n",
       "      <td>Pacific</td>\n",
       "      <td>Eastern Indo-Pacific</td>\n",
       "      <td>Society Islands French Polynesia</td>\n",
       "      <td>1431.62</td>\n",
       "      <td>Exposed</td>\n",
       "      <td>0.0262</td>\n",
       "      <td>51.20</td>\n",
       "      <td>14.00</td>\n",
       "      <td>...</td>\n",
       "      <td>2.0</td>\n",
       "      <td>1.29</td>\n",
       "      <td>3.10</td>\n",
       "      <td>0.5</td>\n",
       "      <td>0.26</td>\n",
       "      <td>1.29</td>\n",
       "      <td>3.00</td>\n",
       "      <td>0.25</td>\n",
       "      <td>0.26</td>\n",
       "      <td>1991-03-15</td>\n",
       "    </tr>\n",
       "    <tr>\n",
       "      <th>2</th>\n",
       "      <td>18.3690</td>\n",
       "      <td>-64.5640</td>\n",
       "      <td>Atlantic</td>\n",
       "      <td>Tropical Atlantic</td>\n",
       "      <td>Hispaniola Puerto Rico and Lesser Antilles</td>\n",
       "      <td>182.33</td>\n",
       "      <td>Exposed</td>\n",
       "      <td>0.0429</td>\n",
       "      <td>61.52</td>\n",
       "      <td>7.00</td>\n",
       "      <td>...</td>\n",
       "      <td>8.0</td>\n",
       "      <td>0.04</td>\n",
       "      <td>2.83</td>\n",
       "      <td>16.0</td>\n",
       "      <td>0.00</td>\n",
       "      <td>-2.64</td>\n",
       "      <td>2.31</td>\n",
       "      <td>7.00</td>\n",
       "      <td>0.00</td>\n",
       "      <td>2006-01-15</td>\n",
       "    </tr>\n",
       "    <tr>\n",
       "      <th>3</th>\n",
       "      <td>17.7600</td>\n",
       "      <td>-64.5680</td>\n",
       "      <td>Atlantic</td>\n",
       "      <td>Tropical Atlantic</td>\n",
       "      <td>Hispaniola Puerto Rico and Lesser Antilles</td>\n",
       "      <td>313.13</td>\n",
       "      <td>Exposed</td>\n",
       "      <td>0.0424</td>\n",
       "      <td>65.39</td>\n",
       "      <td>9.02</td>\n",
       "      <td>...</td>\n",
       "      <td>3.0</td>\n",
       "      <td>-0.07</td>\n",
       "      <td>2.47</td>\n",
       "      <td>22.0</td>\n",
       "      <td>0.00</td>\n",
       "      <td>-2.27</td>\n",
       "      <td>2.19</td>\n",
       "      <td>3.00</td>\n",
       "      <td>0.00</td>\n",
       "      <td>2006-04-15</td>\n",
       "    </tr>\n",
       "    <tr>\n",
       "      <th>4</th>\n",
       "      <td>17.7690</td>\n",
       "      <td>-64.5830</td>\n",
       "      <td>Atlantic</td>\n",
       "      <td>Tropical Atlantic</td>\n",
       "      <td>Hispaniola Puerto Rico and Lesser Antilles</td>\n",
       "      <td>792.00</td>\n",
       "      <td>Exposed</td>\n",
       "      <td>0.0424</td>\n",
       "      <td>65.39</td>\n",
       "      <td>12.50</td>\n",
       "      <td>...</td>\n",
       "      <td>3.0</td>\n",
       "      <td>0.00</td>\n",
       "      <td>2.30</td>\n",
       "      <td>16.0</td>\n",
       "      <td>0.00</td>\n",
       "      <td>-2.19</td>\n",
       "      <td>1.87</td>\n",
       "      <td>3.00</td>\n",
       "      <td>0.00</td>\n",
       "      <td>2006-04-15</td>\n",
       "    </tr>\n",
       "    <tr>\n",
       "      <th>...</th>\n",
       "      <td>...</td>\n",
       "      <td>...</td>\n",
       "      <td>...</td>\n",
       "      <td>...</td>\n",
       "      <td>...</td>\n",
       "      <td>...</td>\n",
       "      <td>...</td>\n",
       "      <td>...</td>\n",
       "      <td>...</td>\n",
       "      <td>...</td>\n",
       "      <td>...</td>\n",
       "      <td>...</td>\n",
       "      <td>...</td>\n",
       "      <td>...</td>\n",
       "      <td>...</td>\n",
       "      <td>...</td>\n",
       "      <td>...</td>\n",
       "      <td>...</td>\n",
       "      <td>...</td>\n",
       "      <td>...</td>\n",
       "      <td>...</td>\n",
       "    </tr>\n",
       "    <tr>\n",
       "      <th>35038</th>\n",
       "      <td>10.1167</td>\n",
       "      <td>99.8444</td>\n",
       "      <td>Pacific</td>\n",
       "      <td>Central Indo-Pacific</td>\n",
       "      <td>Gulf of Thailand</td>\n",
       "      <td>73.88</td>\n",
       "      <td>Exposed</td>\n",
       "      <td>0.0565</td>\n",
       "      <td>50.27</td>\n",
       "      <td>5.00</td>\n",
       "      <td>...</td>\n",
       "      <td>2.0</td>\n",
       "      <td>1.40</td>\n",
       "      <td>3.74</td>\n",
       "      <td>2.0</td>\n",
       "      <td>1.37</td>\n",
       "      <td>1.26</td>\n",
       "      <td>3.35</td>\n",
       "      <td>1.00</td>\n",
       "      <td>1.33</td>\n",
       "      <td>2014-05-27</td>\n",
       "    </tr>\n",
       "    <tr>\n",
       "      <th>35040</th>\n",
       "      <td>18.3350</td>\n",
       "      <td>-64.8486</td>\n",
       "      <td>Atlantic</td>\n",
       "      <td>Tropical Atlantic</td>\n",
       "      <td>Hispaniola Puerto Rico and Lesser Antilles</td>\n",
       "      <td>49.16</td>\n",
       "      <td>Sheltered</td>\n",
       "      <td>0.0586</td>\n",
       "      <td>85.57</td>\n",
       "      <td>3.00</td>\n",
       "      <td>...</td>\n",
       "      <td>8.0</td>\n",
       "      <td>0.32</td>\n",
       "      <td>2.34</td>\n",
       "      <td>12.0</td>\n",
       "      <td>10.14</td>\n",
       "      <td>0.21</td>\n",
       "      <td>1.76</td>\n",
       "      <td>5.00</td>\n",
       "      <td>6.22</td>\n",
       "      <td>2005-10-23</td>\n",
       "    </tr>\n",
       "    <tr>\n",
       "      <th>35042</th>\n",
       "      <td>-13.5002</td>\n",
       "      <td>47.8825</td>\n",
       "      <td>Indian</td>\n",
       "      <td>Western Indo-Pacific</td>\n",
       "      <td>North Madagascar</td>\n",
       "      <td>8768.03</td>\n",
       "      <td>Sometimes</td>\n",
       "      <td>0.0628</td>\n",
       "      <td>35.71</td>\n",
       "      <td>14.00</td>\n",
       "      <td>...</td>\n",
       "      <td>5.0</td>\n",
       "      <td>0.63</td>\n",
       "      <td>2.50</td>\n",
       "      <td>9.0</td>\n",
       "      <td>5.81</td>\n",
       "      <td>0.59</td>\n",
       "      <td>2.46</td>\n",
       "      <td>4.00</td>\n",
       "      <td>4.44</td>\n",
       "      <td>2016-04-18</td>\n",
       "    </tr>\n",
       "    <tr>\n",
       "      <th>35043</th>\n",
       "      <td>24.5019</td>\n",
       "      <td>-81.6328</td>\n",
       "      <td>Atlantic</td>\n",
       "      <td>Tropical Atlantic</td>\n",
       "      <td>Bahamas and Florida Keys</td>\n",
       "      <td>8170.00</td>\n",
       "      <td>Exposed</td>\n",
       "      <td>0.1203</td>\n",
       "      <td>58.42</td>\n",
       "      <td>4.00</td>\n",
       "      <td>...</td>\n",
       "      <td>5.0</td>\n",
       "      <td>3.91</td>\n",
       "      <td>6.20</td>\n",
       "      <td>25.0</td>\n",
       "      <td>51.11</td>\n",
       "      <td>3.91</td>\n",
       "      <td>6.19</td>\n",
       "      <td>25.00</td>\n",
       "      <td>50.63</td>\n",
       "      <td>2015-09-10</td>\n",
       "    </tr>\n",
       "    <tr>\n",
       "      <th>35044</th>\n",
       "      <td>24.9542</td>\n",
       "      <td>-80.5458</td>\n",
       "      <td>Atlantic</td>\n",
       "      <td>Tropical Atlantic</td>\n",
       "      <td>Bahamas and Florida Keys</td>\n",
       "      <td>1863.00</td>\n",
       "      <td>Sheltered</td>\n",
       "      <td>0.1703</td>\n",
       "      <td>62.54</td>\n",
       "      <td>4.00</td>\n",
       "      <td>...</td>\n",
       "      <td>2.0</td>\n",
       "      <td>1.59</td>\n",
       "      <td>4.11</td>\n",
       "      <td>22.0</td>\n",
       "      <td>10.59</td>\n",
       "      <td>-0.57</td>\n",
       "      <td>3.54</td>\n",
       "      <td>5.00</td>\n",
       "      <td>7.16</td>\n",
       "      <td>2015-10-07</td>\n",
       "    </tr>\n",
       "  </tbody>\n",
       "</table>\n",
       "<p>23203 rows × 24 columns</p>\n",
       "</div>"
      ],
      "text/plain": [
       "       latitude  longitude     ocean                 realm  \\\n",
       "0       23.1630   -82.5260  Atlantic     Tropical Atlantic   \n",
       "1      -17.5750  -149.7833   Pacific  Eastern Indo-Pacific   \n",
       "2       18.3690   -64.5640  Atlantic     Tropical Atlantic   \n",
       "3       17.7600   -64.5680  Atlantic     Tropical Atlantic   \n",
       "4       17.7690   -64.5830  Atlantic     Tropical Atlantic   \n",
       "...         ...        ...       ...                   ...   \n",
       "35038   10.1167    99.8444   Pacific  Central Indo-Pacific   \n",
       "35040   18.3350   -64.8486  Atlantic     Tropical Atlantic   \n",
       "35042  -13.5002    47.8825    Indian  Western Indo-Pacific   \n",
       "35043   24.5019   -81.6328  Atlantic     Tropical Atlantic   \n",
       "35044   24.9542   -80.5458  Atlantic     Tropical Atlantic   \n",
       "\n",
       "                                        ecoregion  distance_to_shore  \\\n",
       "0                         Cuba and Cayman Islands            8519.23   \n",
       "1                Society Islands French Polynesia            1431.62   \n",
       "2      Hispaniola Puerto Rico and Lesser Antilles             182.33   \n",
       "3      Hispaniola Puerto Rico and Lesser Antilles             313.13   \n",
       "4      Hispaniola Puerto Rico and Lesser Antilles             792.00   \n",
       "...                                           ...                ...   \n",
       "35038                            Gulf of Thailand              73.88   \n",
       "35040  Hispaniola Puerto Rico and Lesser Antilles              49.16   \n",
       "35042                            North Madagascar            8768.03   \n",
       "35043                    Bahamas and Florida Keys            8170.00   \n",
       "35044                    Bahamas and Florida Keys            1863.00   \n",
       "\n",
       "        exposure  turbidity  cyclone_frequency  depth_m  ... windspeed  ssta  \\\n",
       "0        Exposed     0.0287              49.90    10.00  ...       8.0 -0.46   \n",
       "1        Exposed     0.0262              51.20    14.00  ...       2.0  1.29   \n",
       "2        Exposed     0.0429              61.52     7.00  ...       8.0  0.04   \n",
       "3        Exposed     0.0424              65.39     9.02  ...       3.0 -0.07   \n",
       "4        Exposed     0.0424              65.39    12.50  ...       3.0  0.00   \n",
       "...          ...        ...                ...      ...  ...       ...   ...   \n",
       "35038    Exposed     0.0565              50.27     5.00  ...       2.0  1.40   \n",
       "35040  Sheltered     0.0586              85.57     3.00  ...       8.0  0.32   \n",
       "35042  Sometimes     0.0628              35.71    14.00  ...       5.0  0.63   \n",
       "35043    Exposed     0.1203              58.42     4.00  ...       5.0  3.91   \n",
       "35044  Sheltered     0.1703              62.54     4.00  ...       2.0  1.59   \n",
       "\n",
       "       ssta_maximum  ssta_frequency  ssta_dhw   tsa  tsa_maximum  \\\n",
       "0              2.24             0.0      0.00 -0.80         1.83   \n",
       "1              3.10             0.5      0.26  1.29         3.00   \n",
       "2              2.83            16.0      0.00 -2.64         2.31   \n",
       "3              2.47            22.0      0.00 -2.27         2.19   \n",
       "4              2.30            16.0      0.00 -2.19         1.87   \n",
       "...             ...             ...       ...   ...          ...   \n",
       "35038          3.74             2.0      1.37  1.26         3.35   \n",
       "35040          2.34            12.0     10.14  0.21         1.76   \n",
       "35042          2.50             9.0      5.81  0.59         2.46   \n",
       "35043          6.20            25.0     51.11  3.91         6.19   \n",
       "35044          4.11            22.0     10.59 -0.57         3.54   \n",
       "\n",
       "       tsa_frequency  tsa_dhw       date  \n",
       "0               0.00     0.00 2005-09-15  \n",
       "1               0.25     0.26 1991-03-15  \n",
       "2               7.00     0.00 2006-01-15  \n",
       "3               3.00     0.00 2006-04-15  \n",
       "4               3.00     0.00 2006-04-15  \n",
       "...              ...      ...        ...  \n",
       "35038           1.00     1.33 2014-05-27  \n",
       "35040           5.00     6.22 2005-10-23  \n",
       "35042           4.00     4.44 2016-04-18  \n",
       "35043          25.00    50.63 2015-09-10  \n",
       "35044           5.00     7.16 2015-10-07  \n",
       "\n",
       "[23203 rows x 24 columns]"
      ]
     },
     "execution_count": 258,
     "metadata": {},
     "output_type": "execute_result"
    }
   ],
   "source": [
    "coral"
   ]
  },
  {
   "cell_type": "code",
   "execution_count": 259,
   "metadata": {},
   "outputs": [
    {
     "data": {
      "text/plain": [
       "Index(['latitude', 'longitude', 'ocean', 'realm', 'ecoregion',\n",
       "       'distance_to_shore', 'exposure', 'turbidity', 'cyclone_frequency',\n",
       "       'depth_m', 'bleaching_level', 'percent_bleaching', 'sst', 'sst_maximum',\n",
       "       'windspeed', 'ssta', 'ssta_maximum', 'ssta_frequency', 'ssta_dhw',\n",
       "       'tsa', 'tsa_maximum', 'tsa_frequency', 'tsa_dhw', 'date'],\n",
       "      dtype='object')"
      ]
     },
     "execution_count": 259,
     "metadata": {},
     "output_type": "execute_result"
    }
   ],
   "source": [
    "coral.columns"
   ]
  },
  {
   "cell_type": "code",
   "execution_count": 260,
   "metadata": {},
   "outputs": [],
   "source": [
    "coral = coral[['date', 'latitude', 'longitude', 'ocean', 'realm', 'ecoregion', 'distance_to_shore', 'exposure', 'depth_m', 'turbidity', 'bleaching_level', 'percent_bleaching', 'cyclone_frequency', 'windspeed', 'sst', 'sst_maximum', 'ssta', 'ssta_maximum', 'ssta_frequency', 'tsa', 'ssta_dhw', 'tsa_maximum', 'tsa_frequency', 'tsa_dhw']]\n"
   ]
  },
  {
   "cell_type": "code",
   "execution_count": 261,
   "metadata": {},
   "outputs": [],
   "source": [
    "coral = coral.reset_index().drop('index', axis=1)"
   ]
  },
  {
   "cell_type": "code",
   "execution_count": 262,
   "metadata": {},
   "outputs": [
    {
     "name": "stdout",
     "output_type": "stream",
     "text": [
      "<class 'pandas.core.frame.DataFrame'>\n",
      "RangeIndex: 23203 entries, 0 to 23202\n",
      "Data columns (total 24 columns):\n",
      " #   Column             Non-Null Count  Dtype         \n",
      "---  ------             --------------  -----         \n",
      " 0   date               23203 non-null  datetime64[ns]\n",
      " 1   latitude           23203 non-null  float64       \n",
      " 2   longitude          23203 non-null  float64       \n",
      " 3   ocean              23203 non-null  object        \n",
      " 4   realm              23203 non-null  object        \n",
      " 5   ecoregion          23203 non-null  object        \n",
      " 6   distance_to_shore  23203 non-null  float64       \n",
      " 7   exposure           23203 non-null  object        \n",
      " 8   depth_m            23203 non-null  float64       \n",
      " 9   turbidity          23203 non-null  float64       \n",
      " 10  bleaching_level    23203 non-null  object        \n",
      " 11  percent_bleaching  23203 non-null  float64       \n",
      " 12  cyclone_frequency  23203 non-null  float64       \n",
      " 13  windspeed          23203 non-null  float64       \n",
      " 14  sst                23203 non-null  float64       \n",
      " 15  sst_maximum        23203 non-null  float64       \n",
      " 16  ssta               23203 non-null  float64       \n",
      " 17  ssta_maximum       23203 non-null  float64       \n",
      " 18  ssta_frequency     23203 non-null  float64       \n",
      " 19  tsa                23203 non-null  float64       \n",
      " 20  ssta_dhw           23203 non-null  float64       \n",
      " 21  tsa_maximum        23203 non-null  float64       \n",
      " 22  tsa_frequency      23203 non-null  float64       \n",
      " 23  tsa_dhw            23203 non-null  float64       \n",
      "dtypes: datetime64[ns](1), float64(18), object(5)\n",
      "memory usage: 4.2+ MB\n"
     ]
    }
   ],
   "source": [
    "coral.info()"
   ]
  },
  {
   "cell_type": "code",
   "execution_count": 263,
   "metadata": {},
   "outputs": [],
   "source": [
    "coral.to_csv(\"data/coral_clean.csv\", index=False)"
   ]
  }
 ],
 "metadata": {
  "kernelspec": {
   "display_name": "Python (base)",
   "language": "python",
   "name": "base"
  },
  "language_info": {
   "codemirror_mode": {
    "name": "ipython",
    "version": 3
   },
   "file_extension": ".py",
   "mimetype": "text/x-python",
   "name": "python",
   "nbconvert_exporter": "python",
   "pygments_lexer": "ipython3",
   "version": "3.12.7"
  }
 },
 "nbformat": 4,
 "nbformat_minor": 2
}
